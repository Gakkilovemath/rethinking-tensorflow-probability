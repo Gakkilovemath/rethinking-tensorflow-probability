{
 "cells": [
  {
   "cell_type": "markdown",
   "metadata": {},
   "source": [
    "[![Open In Colab](https://colab.research.google.com/assets/colab-badge.svg)](https://colab.research.google.com/github/ksachdeva/rethinking-tensorflow-probability/blob/master/notebooks/10_big_entropy_and_the_generalized_linear_model.ipynb)"
   ]
  },
  {
   "cell_type": "markdown",
   "metadata": {},
   "source": [
    "# Chapter 10 - Big Entropy and The Generalized Linear Model"
   ]
  },
  {
   "cell_type": "markdown",
   "metadata": {},
   "source": [
    "## Imports and utility functions\n"
   ]
  },
  {
   "cell_type": "code",
   "execution_count": 1,
   "metadata": {},
   "outputs": [],
   "source": [
    "# Install packages that are not installed in colab\n",
    "try:\n",
    "  import google.colab\n",
    "  IN_COLAB = True\n",
    "except:\n",
    "  IN_COLAB = False\n",
    "\n",
    "if IN_COLAB:\n",
    "    %tensorflow_version 2.X\n",
    "    \n",
    "    !pip install watermark\n",
    "    !pip install arviz    \n",
    "    \n",
    "USE_NIGHTLY_TFP = True # @param\n",
    "if IN_COLAB and USE_NIGHTLY_TFP:\n",
    "    !pip install --upgrade tf-nightly\n",
    "    !pip install --upgrade tfp-nightly"
   ]
  },
  {
   "cell_type": "code",
   "execution_count": 2,
   "metadata": {},
   "outputs": [],
   "source": [
    "%load_ext watermark"
   ]
  },
  {
   "cell_type": "code",
   "execution_count": 3,
   "metadata": {},
   "outputs": [],
   "source": [
    "# Core\n",
    "import numpy as np\n",
    "import arviz as az\n",
    "import pandas as pd\n",
    "import tensorflow as tf\n",
    "import tensorflow_probability as tfp\n",
    "\n",
    "# visualization \n",
    "import matplotlib.pyplot as plt\n",
    "\n",
    "# aliases\n",
    "tfd = tfp.distributions"
   ]
  },
  {
   "cell_type": "code",
   "execution_count": 4,
   "metadata": {},
   "outputs": [
    {
     "name": "stdout",
     "output_type": "stream",
     "text": [
      "numpy 1.18.2\n",
      "tensorflow 2.2.0-dev20200417\n",
      "tensorflow_probability 0.11.0-dev20200417\n",
      "arviz 0.7.0\n",
      "scipy 1.4.1\n",
      "pandas 1.0.3\n"
     ]
    }
   ],
   "source": [
    "%watermark -p numpy,tensorflow,tensorflow_probability,arviz,scipy,pandas"
   ]
  },
  {
   "cell_type": "markdown",
   "metadata": {},
   "source": [
    "## Code 10.1"
   ]
  },
  {
   "cell_type": "code",
   "execution_count": 5,
   "metadata": {},
   "outputs": [],
   "source": [
    "d = {'A':[0, 0, 10, 0, 0], \n",
    "     'B':[0, 1, 8, 1, 0], \n",
    "     'C':[0, 2, 6, 2, 0], \n",
    "     'D':[1, 2, 4, 2, 1], \n",
    "     'E':[2, 2, 2, 2, 2]}\n",
    "p = pd.DataFrame(data=d)"
   ]
  },
  {
   "cell_type": "markdown",
   "metadata": {},
   "source": [
    "## Code 10.2"
   ]
  },
  {
   "cell_type": "code",
   "execution_count": 6,
   "metadata": {},
   "outputs": [],
   "source": [
    "p_norm = p/p.sum(0)"
   ]
  },
  {
   "cell_type": "markdown",
   "metadata": {},
   "source": [
    "## Code 10.3"
   ]
  },
  {
   "cell_type": "code",
   "execution_count": 7,
   "metadata": {},
   "outputs": [
    {
     "data": {
      "text/plain": [
       "A   -0.000000\n",
       "B    0.639032\n",
       "C    0.950271\n",
       "D    1.470808\n",
       "E    1.609438\n",
       "dtype: float64"
      ]
     },
     "execution_count": 7,
     "metadata": {},
     "output_type": "execute_result"
    }
   ],
   "source": [
    "\n",
    "def entropy(x):\n",
    "    y = []\n",
    "    for i in x:\n",
    "        if i == 0:\n",
    "            y.append(0)\n",
    "        else: \n",
    "            y.append(i*np.log(i))\n",
    "    h = -sum(y)\n",
    "    return h\n",
    "H = p_norm.apply(entropy, axis=0)\n",
    "H"
   ]
  },
  {
   "cell_type": "markdown",
   "metadata": {},
   "source": [
    "## Code 10.4"
   ]
  },
  {
   "cell_type": "code",
   "execution_count": 8,
   "metadata": {},
   "outputs": [],
   "source": [
    "ways = np.array([1, 90, 1260, 37800, 113400])\n",
    "logwayspp = np.log(ways) / 10"
   ]
  },
  {
   "cell_type": "markdown",
   "metadata": {},
   "source": [
    "## Code 10.5"
   ]
  },
  {
   "cell_type": "code",
   "execution_count": 9,
   "metadata": {},
   "outputs": [
    {
     "data": {
      "text/plain": [
       "[1.0, 1.0, 1.0, 1.0]"
      ]
     },
     "execution_count": 9,
     "metadata": {},
     "output_type": "execute_result"
    }
   ],
   "source": [
    "# Build list of the candidate distributions.\n",
    "p = [[1/4, 1/4, 1/4, 1/4],\n",
    "     [2/6, 1/6, 1/6, 2/6],\n",
    "     [1/6, 2/6, 2/6, 1/6],\n",
    "     [1/8, 4/8, 2/8, 1/8]]\n",
    "\n",
    "# Compute expected value of each. The sum of the multiplied entries is just a dot product.\n",
    "p_ev = [np.dot(i, [0, 1, 1, 2]) for i in p]\n",
    "p_ev"
   ]
  },
  {
   "cell_type": "markdown",
   "metadata": {},
   "source": [
    "## Code 10.6"
   ]
  },
  {
   "cell_type": "code",
   "execution_count": 10,
   "metadata": {},
   "outputs": [
    {
     "data": {
      "text/plain": [
       "[1.3862943611198906,\n",
       " 1.3296613488547582,\n",
       " 1.3296613488547582,\n",
       " 1.2130075659799042]"
      ]
     },
     "execution_count": 10,
     "metadata": {},
     "output_type": "execute_result"
    }
   ],
   "source": [
    "\n",
    "# Compute entropy of each distribution\n",
    "p_ent = [entropy(i) for i in p]\n",
    "p_ent"
   ]
  },
  {
   "cell_type": "markdown",
   "metadata": {},
   "source": [
    "## Code 10.7"
   ]
  },
  {
   "cell_type": "code",
   "execution_count": 11,
   "metadata": {},
   "outputs": [
    {
     "data": {
      "text/plain": [
       "[0.09000000000000002,\n",
       " 0.21000000000000002,\n",
       " 0.21000000000000002,\n",
       " 0.48999999999999994]"
      ]
     },
     "execution_count": 11,
     "metadata": {},
     "output_type": "execute_result"
    }
   ],
   "source": [
    "p = 0.7\n",
    "A = [(1-p)**2, p*(1-p), (1-p)*p, p**2]\n",
    "A"
   ]
  },
  {
   "cell_type": "markdown",
   "metadata": {},
   "source": [
    "## Code 10.8"
   ]
  },
  {
   "cell_type": "code",
   "execution_count": 12,
   "metadata": {},
   "outputs": [
    {
     "data": {
      "text/plain": [
       "1.221728604109787"
      ]
     },
     "execution_count": 12,
     "metadata": {},
     "output_type": "execute_result"
    }
   ],
   "source": [
    "-np.sum(A*np.log(A))"
   ]
  },
  {
   "cell_type": "markdown",
   "metadata": {},
   "source": [
    "## Code 10.9"
   ]
  },
  {
   "cell_type": "code",
   "execution_count": 13,
   "metadata": {},
   "outputs": [],
   "source": [
    "def sim_p(G=1.4):\n",
    "    x123 = tfd.Uniform(low=0., high=1.).sample(3).numpy()\n",
    "    x4 = (G * np.sum(x123) - x123[1] - x123[2]) / (2 - G)\n",
    "    x1234 = np.concatenate((x123, [x4]))\n",
    "    z = np.sum(x1234)\n",
    "    p = x1234 / z\n",
    "    return - np.sum(p * np.log(p)), p"
   ]
  },
  {
   "cell_type": "markdown",
   "metadata": {},
   "source": [
    "## Code 10.10"
   ]
  },
  {
   "cell_type": "code",
   "execution_count": 14,
   "metadata": {},
   "outputs": [],
   "source": [
    "# should re-write this using map\n",
    "H = []\n",
    "p = np.zeros((10**5, 4))\n",
    "\n",
    "for rep in range(10**5):\n",
    "    h, p_ = sim_p()\n",
    "    H.append(h)\n",
    "    p[rep] = p_"
   ]
  },
  {
   "cell_type": "code",
   "execution_count": 15,
   "metadata": {},
   "outputs": [
    {
     "data": {
      "image/png": "[encoded data removed]",
      "text/plain": [
       "<Figure size 432x288 with 1 Axes>"
      ]
     },
     "metadata": {
      "needs_background": "light"
     },
     "output_type": "display_data"
    }
   ],
   "source": [
    "az.plot_kde(H)\n",
    "plt.xlabel('Entropy')\n",
    "plt.ylabel('Density');"
   ]
  },
  {
   "cell_type": "markdown",
   "metadata": {},
   "source": [
    "## Code 10.11"
   ]
  },
  {
   "cell_type": "code",
   "execution_count": 16,
   "metadata": {},
   "outputs": [],
   "source": [
    "entropies = H\n",
    "distributions = p"
   ]
  },
  {
   "cell_type": "markdown",
   "metadata": {},
   "source": [
    "## Code 10.12"
   ]
  },
  {
   "cell_type": "code",
   "execution_count": 17,
   "metadata": {},
   "outputs": [
    {
     "data": {
      "text/plain": [
       "1.221728096663277"
      ]
     },
     "execution_count": 17,
     "metadata": {},
     "output_type": "execute_result"
    }
   ],
   "source": [
    "np.max(H)"
   ]
  },
  {
   "cell_type": "markdown",
   "metadata": {},
   "source": [
    "## Code 10.13"
   ]
  },
  {
   "cell_type": "code",
   "execution_count": 18,
   "metadata": {},
   "outputs": [
    {
     "data": {
      "text/plain": [
       "array([0.0898047 , 0.21006982, 0.21032078, 0.4898047 ])"
      ]
     },
     "execution_count": 18,
     "metadata": {},
     "output_type": "execute_result"
    }
   ],
   "source": [
    "p[np.argmax(H)]"
   ]
  }
 ],
 "metadata": {
  "kernelspec": {
   "display_name": "Python 3",
   "language": "python",
   "name": "python3"
  },
  "language_info": {
   "codemirror_mode": {
    "name": "ipython",
    "version": 3
   },
   "file_extension": ".py",
   "mimetype": "text/x-python",
   "name": "python",
   "nbconvert_exporter": "python",
   "pygments_lexer": "ipython3",
   "version": "3.6.10"
  },
  "toc": {
   "base_numbering": 1,
   "nav_menu": {},
   "number_sections": true,
   "sideBar": true,
   "skip_h1_title": false,
   "title_cell": "Table of Contents",
   "title_sidebar": "Contents",
   "toc_cell": false,
   "toc_position": {},
   "toc_section_display": true,
   "toc_window_display": false
  }
 },
 "nbformat": 4,
 "nbformat_minor": 4
}
